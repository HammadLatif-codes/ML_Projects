{
  "cells": [
    {
      "cell_type": "code",
      "execution_count": null,
      "metadata": {
        "colab": {
          "base_uri": "https://localhost:8080/"
        },
        "id": "WaWr3jepIadj",
        "outputId": "072a9071-964b-418f-bf8f-a8d2bdf5dea6"
      },
      "outputs": [
        {
          "output_type": "stream",
          "name": "stderr",
          "text": [
            "[nltk_data] Downloading package stopwords to /root/nltk_data...\n",
            "[nltk_data]   Package stopwords is already up-to-date!\n",
            "[nltk_data] Downloading package punkt to /root/nltk_data...\n",
            "[nltk_data]   Package punkt is already up-to-date!\n"
          ]
        },
        {
          "output_type": "execute_result",
          "data": {
            "text/plain": [
              "True"
            ]
          },
          "metadata": {},
          "execution_count": 2
        }
      ],
      "source": [
        "import nltk\n",
        "# Download stopwords\n",
        "nltk.download('stopwords')\n",
        "nltk.download('punkt')\n"
      ]
    },
    {
      "cell_type": "code",
      "execution_count": null,
      "metadata": {
        "id": "Tl2WV8tq8rje"
      },
      "outputs": [],
      "source": [
        "import time\n",
        "import pandas as pd\n",
        "import numpy as np\n",
        "import re\n",
        "from sklearn.feature_extraction.text import TfidfVectorizer\n",
        "from nltk.corpus import stopwords\n",
        "from nltk.tokenize import word_tokenize\n",
        "from nltk.stem import PorterStemmer\n",
        "from sklearn.feature_selection import SelectKBest, chi2\n",
        "from sklearn.model_selection import train_test_split\n",
        "from sklearn.naive_bayes import MultinomialNB\n",
        "from sklearn.metrics import accuracy_score, classification_report, confusion_matrix\n",
        "from sklearn.linear_model import LogisticRegression\n",
        "from sklearn.tree import DecisionTreeClassifier\n"
      ]
    },
    {
      "cell_type": "code",
      "execution_count": null,
      "metadata": {
        "colab": {
          "base_uri": "https://localhost:8080/",
          "height": 226
        },
        "id": "EWdohHu2-E1_",
        "outputId": "07ffbefb-fcea-4711-8e3d-9ec114f4cbba"
      },
      "outputs": [
        {
          "output_type": "execute_result",
          "data": {
            "text/plain": [
              "   label                                               text\n",
              "0      1  ounce feather bowl hummingbird opec moment ala...\n",
              "1      1  wulvob get your medircations online qnb ikud v...\n",
              "2      0   computer connection from cnn com wednesday es...\n",
              "3      1  university degree obtain a prosperous future m...\n",
              "4      0  thanks for all your answers guys i know i shou..."
            ],
            "text/html": [
              "\n",
              "  <div id=\"df-b99ce9c0-f03d-4a55-b4dd-a877b3e98129\" class=\"colab-df-container\">\n",
              "    <div>\n",
              "<style scoped>\n",
              "    .dataframe tbody tr th:only-of-type {\n",
              "        vertical-align: middle;\n",
              "    }\n",
              "\n",
              "    .dataframe tbody tr th {\n",
              "        vertical-align: top;\n",
              "    }\n",
              "\n",
              "    .dataframe thead th {\n",
              "        text-align: right;\n",
              "    }\n",
              "</style>\n",
              "<table border=\"1\" class=\"dataframe\">\n",
              "  <thead>\n",
              "    <tr style=\"text-align: right;\">\n",
              "      <th></th>\n",
              "      <th>label</th>\n",
              "      <th>text</th>\n",
              "    </tr>\n",
              "  </thead>\n",
              "  <tbody>\n",
              "    <tr>\n",
              "      <th>0</th>\n",
              "      <td>1</td>\n",
              "      <td>ounce feather bowl hummingbird opec moment ala...</td>\n",
              "    </tr>\n",
              "    <tr>\n",
              "      <th>1</th>\n",
              "      <td>1</td>\n",
              "      <td>wulvob get your medircations online qnb ikud v...</td>\n",
              "    </tr>\n",
              "    <tr>\n",
              "      <th>2</th>\n",
              "      <td>0</td>\n",
              "      <td>computer connection from cnn com wednesday es...</td>\n",
              "    </tr>\n",
              "    <tr>\n",
              "      <th>3</th>\n",
              "      <td>1</td>\n",
              "      <td>university degree obtain a prosperous future m...</td>\n",
              "    </tr>\n",
              "    <tr>\n",
              "      <th>4</th>\n",
              "      <td>0</td>\n",
              "      <td>thanks for all your answers guys i know i shou...</td>\n",
              "    </tr>\n",
              "  </tbody>\n",
              "</table>\n",
              "</div>\n",
              "    <div class=\"colab-df-buttons\">\n",
              "\n",
              "  <div class=\"colab-df-container\">\n",
              "    <button class=\"colab-df-convert\" onclick=\"convertToInteractive('df-b99ce9c0-f03d-4a55-b4dd-a877b3e98129')\"\n",
              "            title=\"Convert this dataframe to an interactive table.\"\n",
              "            style=\"display:none;\">\n",
              "\n",
              "  <svg xmlns=\"http://www.w3.org/2000/svg\" height=\"24px\" viewBox=\"0 -960 960 960\">\n",
              "    <path d=\"M120-120v-720h720v720H120Zm60-500h600v-160H180v160Zm220 220h160v-160H400v160Zm0 220h160v-160H400v160ZM180-400h160v-160H180v160Zm440 0h160v-160H620v160ZM180-180h160v-160H180v160Zm440 0h160v-160H620v160Z\"/>\n",
              "  </svg>\n",
              "    </button>\n",
              "\n",
              "  <style>\n",
              "    .colab-df-container {\n",
              "      display:flex;\n",
              "      gap: 12px;\n",
              "    }\n",
              "\n",
              "    .colab-df-convert {\n",
              "      background-color: #E8F0FE;\n",
              "      border: none;\n",
              "      border-radius: 50%;\n",
              "      cursor: pointer;\n",
              "      display: none;\n",
              "      fill: #1967D2;\n",
              "      height: 32px;\n",
              "      padding: 0 0 0 0;\n",
              "      width: 32px;\n",
              "    }\n",
              "\n",
              "    .colab-df-convert:hover {\n",
              "      background-color: #E2EBFA;\n",
              "      box-shadow: 0px 1px 2px rgba(60, 64, 67, 0.3), 0px 1px 3px 1px rgba(60, 64, 67, 0.15);\n",
              "      fill: #174EA6;\n",
              "    }\n",
              "\n",
              "    .colab-df-buttons div {\n",
              "      margin-bottom: 4px;\n",
              "    }\n",
              "\n",
              "    [theme=dark] .colab-df-convert {\n",
              "      background-color: #3B4455;\n",
              "      fill: #D2E3FC;\n",
              "    }\n",
              "\n",
              "    [theme=dark] .colab-df-convert:hover {\n",
              "      background-color: #434B5C;\n",
              "      box-shadow: 0px 1px 3px 1px rgba(0, 0, 0, 0.15);\n",
              "      filter: drop-shadow(0px 1px 2px rgba(0, 0, 0, 0.3));\n",
              "      fill: #FFFFFF;\n",
              "    }\n",
              "  </style>\n",
              "\n",
              "    <script>\n",
              "      const buttonEl =\n",
              "        document.querySelector('#df-b99ce9c0-f03d-4a55-b4dd-a877b3e98129 button.colab-df-convert');\n",
              "      buttonEl.style.display =\n",
              "        google.colab.kernel.accessAllowed ? 'block' : 'none';\n",
              "\n",
              "      async function convertToInteractive(key) {\n",
              "        const element = document.querySelector('#df-b99ce9c0-f03d-4a55-b4dd-a877b3e98129');\n",
              "        const dataTable =\n",
              "          await google.colab.kernel.invokeFunction('convertToInteractive',\n",
              "                                                    [key], {});\n",
              "        if (!dataTable) return;\n",
              "\n",
              "        const docLinkHtml = 'Like what you see? Visit the ' +\n",
              "          '<a target=\"_blank\" href=https://colab.research.google.com/notebooks/data_table.ipynb>data table notebook</a>'\n",
              "          + ' to learn more about interactive tables.';\n",
              "        element.innerHTML = '';\n",
              "        dataTable['output_type'] = 'display_data';\n",
              "        await google.colab.output.renderOutput(dataTable, element);\n",
              "        const docLink = document.createElement('div');\n",
              "        docLink.innerHTML = docLinkHtml;\n",
              "        element.appendChild(docLink);\n",
              "      }\n",
              "    </script>\n",
              "  </div>\n",
              "\n",
              "\n",
              "<div id=\"df-10738742-8a83-44dc-9671-0b3345ff2a5c\">\n",
              "  <button class=\"colab-df-quickchart\" onclick=\"quickchart('df-10738742-8a83-44dc-9671-0b3345ff2a5c')\"\n",
              "            title=\"Suggest charts\"\n",
              "            style=\"display:none;\">\n",
              "\n",
              "<svg xmlns=\"http://www.w3.org/2000/svg\" height=\"24px\"viewBox=\"0 0 24 24\"\n",
              "     width=\"24px\">\n",
              "    <g>\n",
              "        <path d=\"M19 3H5c-1.1 0-2 .9-2 2v14c0 1.1.9 2 2 2h14c1.1 0 2-.9 2-2V5c0-1.1-.9-2-2-2zM9 17H7v-7h2v7zm4 0h-2V7h2v10zm4 0h-2v-4h2v4z\"/>\n",
              "    </g>\n",
              "</svg>\n",
              "  </button>\n",
              "\n",
              "<style>\n",
              "  .colab-df-quickchart {\n",
              "      --bg-color: #E8F0FE;\n",
              "      --fill-color: #1967D2;\n",
              "      --hover-bg-color: #E2EBFA;\n",
              "      --hover-fill-color: #174EA6;\n",
              "      --disabled-fill-color: #AAA;\n",
              "      --disabled-bg-color: #DDD;\n",
              "  }\n",
              "\n",
              "  [theme=dark] .colab-df-quickchart {\n",
              "      --bg-color: #3B4455;\n",
              "      --fill-color: #D2E3FC;\n",
              "      --hover-bg-color: #434B5C;\n",
              "      --hover-fill-color: #FFFFFF;\n",
              "      --disabled-bg-color: #3B4455;\n",
              "      --disabled-fill-color: #666;\n",
              "  }\n",
              "\n",
              "  .colab-df-quickchart {\n",
              "    background-color: var(--bg-color);\n",
              "    border: none;\n",
              "    border-radius: 50%;\n",
              "    cursor: pointer;\n",
              "    display: none;\n",
              "    fill: var(--fill-color);\n",
              "    height: 32px;\n",
              "    padding: 0;\n",
              "    width: 32px;\n",
              "  }\n",
              "\n",
              "  .colab-df-quickchart:hover {\n",
              "    background-color: var(--hover-bg-color);\n",
              "    box-shadow: 0 1px 2px rgba(60, 64, 67, 0.3), 0 1px 3px 1px rgba(60, 64, 67, 0.15);\n",
              "    fill: var(--button-hover-fill-color);\n",
              "  }\n",
              "\n",
              "  .colab-df-quickchart-complete:disabled,\n",
              "  .colab-df-quickchart-complete:disabled:hover {\n",
              "    background-color: var(--disabled-bg-color);\n",
              "    fill: var(--disabled-fill-color);\n",
              "    box-shadow: none;\n",
              "  }\n",
              "\n",
              "  .colab-df-spinner {\n",
              "    border: 2px solid var(--fill-color);\n",
              "    border-color: transparent;\n",
              "    border-bottom-color: var(--fill-color);\n",
              "    animation:\n",
              "      spin 1s steps(1) infinite;\n",
              "  }\n",
              "\n",
              "  @keyframes spin {\n",
              "    0% {\n",
              "      border-color: transparent;\n",
              "      border-bottom-color: var(--fill-color);\n",
              "      border-left-color: var(--fill-color);\n",
              "    }\n",
              "    20% {\n",
              "      border-color: transparent;\n",
              "      border-left-color: var(--fill-color);\n",
              "      border-top-color: var(--fill-color);\n",
              "    }\n",
              "    30% {\n",
              "      border-color: transparent;\n",
              "      border-left-color: var(--fill-color);\n",
              "      border-top-color: var(--fill-color);\n",
              "      border-right-color: var(--fill-color);\n",
              "    }\n",
              "    40% {\n",
              "      border-color: transparent;\n",
              "      border-right-color: var(--fill-color);\n",
              "      border-top-color: var(--fill-color);\n",
              "    }\n",
              "    60% {\n",
              "      border-color: transparent;\n",
              "      border-right-color: var(--fill-color);\n",
              "    }\n",
              "    80% {\n",
              "      border-color: transparent;\n",
              "      border-right-color: var(--fill-color);\n",
              "      border-bottom-color: var(--fill-color);\n",
              "    }\n",
              "    90% {\n",
              "      border-color: transparent;\n",
              "      border-bottom-color: var(--fill-color);\n",
              "    }\n",
              "  }\n",
              "</style>\n",
              "\n",
              "  <script>\n",
              "    async function quickchart(key) {\n",
              "      const quickchartButtonEl =\n",
              "        document.querySelector('#' + key + ' button');\n",
              "      quickchartButtonEl.disabled = true;  // To prevent multiple clicks.\n",
              "      quickchartButtonEl.classList.add('colab-df-spinner');\n",
              "      try {\n",
              "        const charts = await google.colab.kernel.invokeFunction(\n",
              "            'suggestCharts', [key], {});\n",
              "      } catch (error) {\n",
              "        console.error('Error during call to suggestCharts:', error);\n",
              "      }\n",
              "      quickchartButtonEl.classList.remove('colab-df-spinner');\n",
              "      quickchartButtonEl.classList.add('colab-df-quickchart-complete');\n",
              "    }\n",
              "    (() => {\n",
              "      let quickchartButtonEl =\n",
              "        document.querySelector('#df-10738742-8a83-44dc-9671-0b3345ff2a5c button');\n",
              "      quickchartButtonEl.style.display =\n",
              "        google.colab.kernel.accessAllowed ? 'block' : 'none';\n",
              "    })();\n",
              "  </script>\n",
              "</div>\n",
              "\n",
              "    </div>\n",
              "  </div>\n"
            ],
            "application/vnd.google.colaboratory.intrinsic+json": {
              "type": "dataframe",
              "variable_name": "emails",
              "summary": "{\n  \"name\": \"emails\",\n  \"rows\": 83448,\n  \"fields\": [\n    {\n      \"column\": \"label\",\n      \"properties\": {\n        \"dtype\": \"number\",\n        \"std\": 0,\n        \"min\": 0,\n        \"max\": 1,\n        \"num_unique_values\": 2,\n        \"samples\": [\n          0,\n          1\n        ],\n        \"semantic_type\": \"\",\n        \"description\": \"\"\n      }\n    },\n    {\n      \"column\": \"text\",\n      \"properties\": {\n        \"dtype\": \"string\",\n        \"num_unique_values\": 83446,\n        \"samples\": [\n          \"so hard that he can't find time to write to his friends escapenumberf take good care of him aescapenumber aescapenumber they also threatened to destroy fire away then since you are up commanded frank tell him without words so hard that he can't find time to write to his friends escapenumberf take good care of him so hard that he can't find time to write to his friends escapenumberf take good care of him bat's word was law in some things so molly had to submit and took boo away bow aescapenumber aescapenumberas if he had outgrown them and wanted something manlier he took to the hated as if he had outgrown them and wanted something manlier he took to the hated aescapenumber aescapenumberdown workwomen but wishes us to pay them well and economize in some other the house if you feel sociable and your evenings are always free come to me him near her and flapped her fan vigorously whenever he was in sight which with a bucket of water are not pleased for charlie is too presuming and you do need someone to help instantly laid away for repairs and its disappointed maker devoted his energies to helping aescapenumber aescapenumberhead wisely listening to my moral remarks mrs laurence and laurie paused for amy's aescapenumber escapelong how does she behave escapenumberf asked phebe longing for news but too grateful ants when their hill is disturbed of course half a dozen amiable souls posted to have you get thin and pale you know peggy was a jolly lass how beautiful it is cried fanny the drawer took up the little gray book which was her pride thinking christie when her hostess returned and found her warmed refreshed aescapenumber aescapenumber don't then emil who had got his breath by this time gave aescapenumber aescapenumberthen giving a great spring he shot through the air and landed safely anguish as she cried was himself again but it was evident that his sufferings were not smile and agile motion of every limb old ben carried the bag in one soon to tell her all about it you are your active life has done much in some ways to make a man warming and fill the kettle i'll see to the boy commanded mrs aescapenumber aescapenumberat work the sewing room was quite irresistible and he made himself aescapenumber aescapenumbereye showed that his love trials did not quite blind him to the comic aunt looked sober at first but he was so cool about it she couldn't from heart disease and the slightest excitement might kill us if pat while he curried lita till her coat shone like satin then drove is absent template better for it though the memory of it is still bitter and the cross aescapenumber aescapenumber i find don't be a with an unsparing hand institution had not yet made its rules as fixed as the laws of the medes aescapenumber aescapenumberuncle henry smiled and cuddled his little niece\",\n          \"bull market report lescapenumberkup adovcurrent escapenumber escapenumber day target price escapenumber escapelong steadily climb for the top this sym is gaining momentum adov have released very hot news check this out theorize and call to your brocker right now \"\n        ],\n        \"semantic_type\": \"\",\n        \"description\": \"\"\n      }\n    }\n  ]\n}"
            }
          },
          "metadata": {},
          "execution_count": 5
        }
      ],
      "source": [
        "# Load the emails dataset\n",
        "emails = pd.read_csv(\"/content/sample_data/combined_data.csv\")\n",
        "emails.head()"
      ]
    },
    {
      "cell_type": "code",
      "execution_count": null,
      "metadata": {
        "colab": {
          "base_uri": "https://localhost:8080/"
        },
        "id": "fUKyLvHYbArT",
        "outputId": "80909aa2-245c-4cd4-9f55-838e21a5d610"
      },
      "outputs": [
        {
          "output_type": "execute_result",
          "data": {
            "text/plain": [
              "(83448, 2)"
            ]
          },
          "metadata": {},
          "execution_count": 6
        }
      ],
      "source": [
        "emails.shape"
      ]
    },
    {
      "cell_type": "code",
      "source": [
        " # keeping a subset of emails\n",
        "emails= emails.sample(n=50000, random_state=42)\n"
      ],
      "metadata": {
        "id": "IFhh7oFiHEos"
      },
      "execution_count": null,
      "outputs": []
    },
    {
      "cell_type": "code",
      "execution_count": null,
      "metadata": {
        "colab": {
          "base_uri": "https://localhost:8080/",
          "height": 198
        },
        "id": "sFAIdWv-bKkv",
        "outputId": "716592da-23d3-4e17-8550-7e3db659e5d8"
      },
      "outputs": [
        {
          "output_type": "execute_result",
          "data": {
            "text/plain": [
              "label\n",
              "1    26308\n",
              "0    23692\n",
              "Name: count, dtype: int64"
            ],
            "text/html": [
              "<div>\n",
              "<style scoped>\n",
              "    .dataframe tbody tr th:only-of-type {\n",
              "        vertical-align: middle;\n",
              "    }\n",
              "\n",
              "    .dataframe tbody tr th {\n",
              "        vertical-align: top;\n",
              "    }\n",
              "\n",
              "    .dataframe thead th {\n",
              "        text-align: right;\n",
              "    }\n",
              "</style>\n",
              "<table border=\"1\" class=\"dataframe\">\n",
              "  <thead>\n",
              "    <tr style=\"text-align: right;\">\n",
              "      <th></th>\n",
              "      <th>count</th>\n",
              "    </tr>\n",
              "    <tr>\n",
              "      <th>label</th>\n",
              "      <th></th>\n",
              "    </tr>\n",
              "  </thead>\n",
              "  <tbody>\n",
              "    <tr>\n",
              "      <th>1</th>\n",
              "      <td>26308</td>\n",
              "    </tr>\n",
              "    <tr>\n",
              "      <th>0</th>\n",
              "      <td>23692</td>\n",
              "    </tr>\n",
              "  </tbody>\n",
              "</table>\n",
              "</div><br><label><b>dtype:</b> int64</label>"
            ]
          },
          "metadata": {},
          "execution_count": 8
        }
      ],
      "source": [
        "emails.label.value_counts()"
      ]
    },
    {
      "cell_type": "code",
      "execution_count": null,
      "metadata": {
        "colab": {
          "base_uri": "https://localhost:8080/",
          "height": 167
        },
        "id": "ASdjQXBqB4t4",
        "outputId": "d47bc704-cb9c-434c-81e5-f941e209be28"
      },
      "outputs": [
        {
          "output_type": "execute_result",
          "data": {
            "text/plain": [
              "label    0\n",
              "text     0\n",
              "dtype: int64"
            ],
            "text/html": [
              "<div>\n",
              "<style scoped>\n",
              "    .dataframe tbody tr th:only-of-type {\n",
              "        vertical-align: middle;\n",
              "    }\n",
              "\n",
              "    .dataframe tbody tr th {\n",
              "        vertical-align: top;\n",
              "    }\n",
              "\n",
              "    .dataframe thead th {\n",
              "        text-align: right;\n",
              "    }\n",
              "</style>\n",
              "<table border=\"1\" class=\"dataframe\">\n",
              "  <thead>\n",
              "    <tr style=\"text-align: right;\">\n",
              "      <th></th>\n",
              "      <th>0</th>\n",
              "    </tr>\n",
              "  </thead>\n",
              "  <tbody>\n",
              "    <tr>\n",
              "      <th>label</th>\n",
              "      <td>0</td>\n",
              "    </tr>\n",
              "    <tr>\n",
              "      <th>text</th>\n",
              "      <td>0</td>\n",
              "    </tr>\n",
              "  </tbody>\n",
              "</table>\n",
              "</div><br><label><b>dtype:</b> int64</label>"
            ]
          },
          "metadata": {},
          "execution_count": 9
        }
      ],
      "source": [
        "emails.isnull().sum()"
      ]
    },
    {
      "cell_type": "code",
      "execution_count": null,
      "metadata": {
        "id": "GlO94PCq-8p_"
      },
      "outputs": [],
      "source": [
        "# Emails Preprocessing\n",
        "\n",
        "# Initialize stopwords and stemmer\n",
        "stop_words = set(stopwords.words('english'))\n",
        "\n",
        "# Function to clean and preprocess each email\n",
        "def preprocess_email(text):\n",
        "    # Remove HTML tags\n",
        "    text = re.sub(r'<.*?>', '', text)\n",
        "    # Remove special characters and numbers\n",
        "    text = re.sub(r'[^a-zA-Z\\s]', '', text)\n",
        "    # Convert to lowercase\n",
        "    text = text.lower()\n",
        "    # Tokenize and remove stopwords\n",
        "    tokens = word_tokenize(text)\n",
        "    filtered_tokens = [word for word in tokens if word not in stop_words]\n",
        "    return ' '.join(filtered_tokens)\n",
        "\n",
        "# Apply the preprocessing to all emails\n",
        "email_data = [preprocess_email(email) for email in emails.text]\n",
        "\n",
        "# Use TfidfVectorizer to convert emails into numerical format\n",
        "vectorizer = TfidfVectorizer()\n",
        "X = vectorizer.fit_transform(email_data)\n"
      ]
    },
    {
      "cell_type": "code",
      "execution_count": null,
      "metadata": {
        "colab": {
          "base_uri": "https://localhost:8080/"
        },
        "id": "5te7vAooHJ0c",
        "outputId": "1a74c6ee-852e-41d7-d991-8bfbcb89f9e0"
      },
      "outputs": [
        {
          "output_type": "execute_result",
          "data": {
            "text/plain": [
              "(50000, 213302)"
            ]
          },
          "metadata": {},
          "execution_count": 11
        }
      ],
      "source": [
        "X.shape"
      ]
    },
    {
      "cell_type": "code",
      "execution_count": null,
      "metadata": {
        "colab": {
          "base_uri": "https://localhost:8080/"
        },
        "id": "uoykO0rhGuJk",
        "outputId": "924ac2a8-c385-41a1-a7ff-8bccc6792a07"
      },
      "outputs": [
        {
          "output_type": "execute_result",
          "data": {
            "text/plain": [
              "(50000, 10000)"
            ]
          },
          "metadata": {},
          "execution_count": 12
        }
      ],
      "source": [
        "# feature selection using chi square\n",
        "# Select the top 10,000 best features\n",
        "selector = SelectKBest(chi2, k=10000)\n",
        "X_reduced = selector.fit_transform(X, emails.label)\n",
        "X_reduced.shape"
      ]
    },
    {
      "cell_type": "code",
      "execution_count": null,
      "metadata": {
        "id": "RpdNAE6GaiRx",
        "colab": {
          "base_uri": "https://localhost:8080/",
          "height": 255
        },
        "outputId": "969eb92a-4bf1-4877-d8ca-1db208e62935"
      },
      "outputs": [
        {
          "output_type": "execute_result",
          "data": {
            "text/plain": [
              "   aaa  aac  abacha  abacustech  abartlet  abated  abating  abb  abbott  \\\n",
              "0  0.0  0.0     0.0         0.0       0.0     0.0      0.0  0.0     0.0   \n",
              "1  0.0  0.0     0.0         0.0       0.0     0.0      0.0  0.0     0.0   \n",
              "2  0.0  0.0     0.0         0.0       0.0     0.0      0.0  0.0     0.0   \n",
              "3  0.0  0.0     0.0         0.0       0.0     0.0      0.0  0.0     0.0   \n",
              "4  0.0  0.0     0.0         0.0       0.0     0.0      0.0  0.0     0.0   \n",
              "\n",
              "   abbotts  ...  zoo  ztop   zu  zufferli  zugaenglichen  zukunft  zum  zwei  \\\n",
              "0      0.0  ...  0.0   0.0  0.0       0.0            0.0      0.0  0.0   0.0   \n",
              "1      0.0  ...  0.0   0.0  0.0       0.0            0.0      0.0  0.0   0.0   \n",
              "2      0.0  ...  0.0   0.0  0.0       0.0            0.0      0.0  0.0   0.0   \n",
              "3      0.0  ...  0.0   0.0  0.0       0.0            0.0      0.0  0.0   0.0   \n",
              "4      0.0  ...  0.0   0.0  0.0       0.0            0.0      0.0  0.0   0.0   \n",
              "\n",
              "   zyban  zybescapenumbern  \n",
              "0    0.0               0.0  \n",
              "1    0.0               0.0  \n",
              "2    0.0               0.0  \n",
              "3    0.0               0.0  \n",
              "4    0.0               0.0  \n",
              "\n",
              "[5 rows x 10000 columns]"
            ],
            "text/html": [
              "\n",
              "  <div id=\"df-567aeb5f-127a-46e2-99b6-b596c3f9e312\" class=\"colab-df-container\">\n",
              "    <div>\n",
              "<style scoped>\n",
              "    .dataframe tbody tr th:only-of-type {\n",
              "        vertical-align: middle;\n",
              "    }\n",
              "\n",
              "    .dataframe tbody tr th {\n",
              "        vertical-align: top;\n",
              "    }\n",
              "\n",
              "    .dataframe thead th {\n",
              "        text-align: right;\n",
              "    }\n",
              "</style>\n",
              "<table border=\"1\" class=\"dataframe\">\n",
              "  <thead>\n",
              "    <tr style=\"text-align: right;\">\n",
              "      <th></th>\n",
              "      <th>aaa</th>\n",
              "      <th>aac</th>\n",
              "      <th>abacha</th>\n",
              "      <th>abacustech</th>\n",
              "      <th>abartlet</th>\n",
              "      <th>abated</th>\n",
              "      <th>abating</th>\n",
              "      <th>abb</th>\n",
              "      <th>abbott</th>\n",
              "      <th>abbotts</th>\n",
              "      <th>...</th>\n",
              "      <th>zoo</th>\n",
              "      <th>ztop</th>\n",
              "      <th>zu</th>\n",
              "      <th>zufferli</th>\n",
              "      <th>zugaenglichen</th>\n",
              "      <th>zukunft</th>\n",
              "      <th>zum</th>\n",
              "      <th>zwei</th>\n",
              "      <th>zyban</th>\n",
              "      <th>zybescapenumbern</th>\n",
              "    </tr>\n",
              "  </thead>\n",
              "  <tbody>\n",
              "    <tr>\n",
              "      <th>0</th>\n",
              "      <td>0.0</td>\n",
              "      <td>0.0</td>\n",
              "      <td>0.0</td>\n",
              "      <td>0.0</td>\n",
              "      <td>0.0</td>\n",
              "      <td>0.0</td>\n",
              "      <td>0.0</td>\n",
              "      <td>0.0</td>\n",
              "      <td>0.0</td>\n",
              "      <td>0.0</td>\n",
              "      <td>...</td>\n",
              "      <td>0.0</td>\n",
              "      <td>0.0</td>\n",
              "      <td>0.0</td>\n",
              "      <td>0.0</td>\n",
              "      <td>0.0</td>\n",
              "      <td>0.0</td>\n",
              "      <td>0.0</td>\n",
              "      <td>0.0</td>\n",
              "      <td>0.0</td>\n",
              "      <td>0.0</td>\n",
              "    </tr>\n",
              "    <tr>\n",
              "      <th>1</th>\n",
              "      <td>0.0</td>\n",
              "      <td>0.0</td>\n",
              "      <td>0.0</td>\n",
              "      <td>0.0</td>\n",
              "      <td>0.0</td>\n",
              "      <td>0.0</td>\n",
              "      <td>0.0</td>\n",
              "      <td>0.0</td>\n",
              "      <td>0.0</td>\n",
              "      <td>0.0</td>\n",
              "      <td>...</td>\n",
              "      <td>0.0</td>\n",
              "      <td>0.0</td>\n",
              "      <td>0.0</td>\n",
              "      <td>0.0</td>\n",
              "      <td>0.0</td>\n",
              "      <td>0.0</td>\n",
              "      <td>0.0</td>\n",
              "      <td>0.0</td>\n",
              "      <td>0.0</td>\n",
              "      <td>0.0</td>\n",
              "    </tr>\n",
              "    <tr>\n",
              "      <th>2</th>\n",
              "      <td>0.0</td>\n",
              "      <td>0.0</td>\n",
              "      <td>0.0</td>\n",
              "      <td>0.0</td>\n",
              "      <td>0.0</td>\n",
              "      <td>0.0</td>\n",
              "      <td>0.0</td>\n",
              "      <td>0.0</td>\n",
              "      <td>0.0</td>\n",
              "      <td>0.0</td>\n",
              "      <td>...</td>\n",
              "      <td>0.0</td>\n",
              "      <td>0.0</td>\n",
              "      <td>0.0</td>\n",
              "      <td>0.0</td>\n",
              "      <td>0.0</td>\n",
              "      <td>0.0</td>\n",
              "      <td>0.0</td>\n",
              "      <td>0.0</td>\n",
              "      <td>0.0</td>\n",
              "      <td>0.0</td>\n",
              "    </tr>\n",
              "    <tr>\n",
              "      <th>3</th>\n",
              "      <td>0.0</td>\n",
              "      <td>0.0</td>\n",
              "      <td>0.0</td>\n",
              "      <td>0.0</td>\n",
              "      <td>0.0</td>\n",
              "      <td>0.0</td>\n",
              "      <td>0.0</td>\n",
              "      <td>0.0</td>\n",
              "      <td>0.0</td>\n",
              "      <td>0.0</td>\n",
              "      <td>...</td>\n",
              "      <td>0.0</td>\n",
              "      <td>0.0</td>\n",
              "      <td>0.0</td>\n",
              "      <td>0.0</td>\n",
              "      <td>0.0</td>\n",
              "      <td>0.0</td>\n",
              "      <td>0.0</td>\n",
              "      <td>0.0</td>\n",
              "      <td>0.0</td>\n",
              "      <td>0.0</td>\n",
              "    </tr>\n",
              "    <tr>\n",
              "      <th>4</th>\n",
              "      <td>0.0</td>\n",
              "      <td>0.0</td>\n",
              "      <td>0.0</td>\n",
              "      <td>0.0</td>\n",
              "      <td>0.0</td>\n",
              "      <td>0.0</td>\n",
              "      <td>0.0</td>\n",
              "      <td>0.0</td>\n",
              "      <td>0.0</td>\n",
              "      <td>0.0</td>\n",
              "      <td>...</td>\n",
              "      <td>0.0</td>\n",
              "      <td>0.0</td>\n",
              "      <td>0.0</td>\n",
              "      <td>0.0</td>\n",
              "      <td>0.0</td>\n",
              "      <td>0.0</td>\n",
              "      <td>0.0</td>\n",
              "      <td>0.0</td>\n",
              "      <td>0.0</td>\n",
              "      <td>0.0</td>\n",
              "    </tr>\n",
              "  </tbody>\n",
              "</table>\n",
              "<p>5 rows × 10000 columns</p>\n",
              "</div>\n",
              "    <div class=\"colab-df-buttons\">\n",
              "\n",
              "  <div class=\"colab-df-container\">\n",
              "    <button class=\"colab-df-convert\" onclick=\"convertToInteractive('df-567aeb5f-127a-46e2-99b6-b596c3f9e312')\"\n",
              "            title=\"Convert this dataframe to an interactive table.\"\n",
              "            style=\"display:none;\">\n",
              "\n",
              "  <svg xmlns=\"http://www.w3.org/2000/svg\" height=\"24px\" viewBox=\"0 -960 960 960\">\n",
              "    <path d=\"M120-120v-720h720v720H120Zm60-500h600v-160H180v160Zm220 220h160v-160H400v160Zm0 220h160v-160H400v160ZM180-400h160v-160H180v160Zm440 0h160v-160H620v160ZM180-180h160v-160H180v160Zm440 0h160v-160H620v160Z\"/>\n",
              "  </svg>\n",
              "    </button>\n",
              "\n",
              "  <style>\n",
              "    .colab-df-container {\n",
              "      display:flex;\n",
              "      gap: 12px;\n",
              "    }\n",
              "\n",
              "    .colab-df-convert {\n",
              "      background-color: #E8F0FE;\n",
              "      border: none;\n",
              "      border-radius: 50%;\n",
              "      cursor: pointer;\n",
              "      display: none;\n",
              "      fill: #1967D2;\n",
              "      height: 32px;\n",
              "      padding: 0 0 0 0;\n",
              "      width: 32px;\n",
              "    }\n",
              "\n",
              "    .colab-df-convert:hover {\n",
              "      background-color: #E2EBFA;\n",
              "      box-shadow: 0px 1px 2px rgba(60, 64, 67, 0.3), 0px 1px 3px 1px rgba(60, 64, 67, 0.15);\n",
              "      fill: #174EA6;\n",
              "    }\n",
              "\n",
              "    .colab-df-buttons div {\n",
              "      margin-bottom: 4px;\n",
              "    }\n",
              "\n",
              "    [theme=dark] .colab-df-convert {\n",
              "      background-color: #3B4455;\n",
              "      fill: #D2E3FC;\n",
              "    }\n",
              "\n",
              "    [theme=dark] .colab-df-convert:hover {\n",
              "      background-color: #434B5C;\n",
              "      box-shadow: 0px 1px 3px 1px rgba(0, 0, 0, 0.15);\n",
              "      filter: drop-shadow(0px 1px 2px rgba(0, 0, 0, 0.3));\n",
              "      fill: #FFFFFF;\n",
              "    }\n",
              "  </style>\n",
              "\n",
              "    <script>\n",
              "      const buttonEl =\n",
              "        document.querySelector('#df-567aeb5f-127a-46e2-99b6-b596c3f9e312 button.colab-df-convert');\n",
              "      buttonEl.style.display =\n",
              "        google.colab.kernel.accessAllowed ? 'block' : 'none';\n",
              "\n",
              "      async function convertToInteractive(key) {\n",
              "        const element = document.querySelector('#df-567aeb5f-127a-46e2-99b6-b596c3f9e312');\n",
              "        const dataTable =\n",
              "          await google.colab.kernel.invokeFunction('convertToInteractive',\n",
              "                                                    [key], {});\n",
              "        if (!dataTable) return;\n",
              "\n",
              "        const docLinkHtml = 'Like what you see? Visit the ' +\n",
              "          '<a target=\"_blank\" href=https://colab.research.google.com/notebooks/data_table.ipynb>data table notebook</a>'\n",
              "          + ' to learn more about interactive tables.';\n",
              "        element.innerHTML = '';\n",
              "        dataTable['output_type'] = 'display_data';\n",
              "        await google.colab.output.renderOutput(dataTable, element);\n",
              "        const docLink = document.createElement('div');\n",
              "        docLink.innerHTML = docLinkHtml;\n",
              "        element.appendChild(docLink);\n",
              "      }\n",
              "    </script>\n",
              "  </div>\n",
              "\n",
              "\n",
              "<div id=\"df-0ba939d0-7a08-4bfd-b1eb-242c5dd99525\">\n",
              "  <button class=\"colab-df-quickchart\" onclick=\"quickchart('df-0ba939d0-7a08-4bfd-b1eb-242c5dd99525')\"\n",
              "            title=\"Suggest charts\"\n",
              "            style=\"display:none;\">\n",
              "\n",
              "<svg xmlns=\"http://www.w3.org/2000/svg\" height=\"24px\"viewBox=\"0 0 24 24\"\n",
              "     width=\"24px\">\n",
              "    <g>\n",
              "        <path d=\"M19 3H5c-1.1 0-2 .9-2 2v14c0 1.1.9 2 2 2h14c1.1 0 2-.9 2-2V5c0-1.1-.9-2-2-2zM9 17H7v-7h2v7zm4 0h-2V7h2v10zm4 0h-2v-4h2v4z\"/>\n",
              "    </g>\n",
              "</svg>\n",
              "  </button>\n",
              "\n",
              "<style>\n",
              "  .colab-df-quickchart {\n",
              "      --bg-color: #E8F0FE;\n",
              "      --fill-color: #1967D2;\n",
              "      --hover-bg-color: #E2EBFA;\n",
              "      --hover-fill-color: #174EA6;\n",
              "      --disabled-fill-color: #AAA;\n",
              "      --disabled-bg-color: #DDD;\n",
              "  }\n",
              "\n",
              "  [theme=dark] .colab-df-quickchart {\n",
              "      --bg-color: #3B4455;\n",
              "      --fill-color: #D2E3FC;\n",
              "      --hover-bg-color: #434B5C;\n",
              "      --hover-fill-color: #FFFFFF;\n",
              "      --disabled-bg-color: #3B4455;\n",
              "      --disabled-fill-color: #666;\n",
              "  }\n",
              "\n",
              "  .colab-df-quickchart {\n",
              "    background-color: var(--bg-color);\n",
              "    border: none;\n",
              "    border-radius: 50%;\n",
              "    cursor: pointer;\n",
              "    display: none;\n",
              "    fill: var(--fill-color);\n",
              "    height: 32px;\n",
              "    padding: 0;\n",
              "    width: 32px;\n",
              "  }\n",
              "\n",
              "  .colab-df-quickchart:hover {\n",
              "    background-color: var(--hover-bg-color);\n",
              "    box-shadow: 0 1px 2px rgba(60, 64, 67, 0.3), 0 1px 3px 1px rgba(60, 64, 67, 0.15);\n",
              "    fill: var(--button-hover-fill-color);\n",
              "  }\n",
              "\n",
              "  .colab-df-quickchart-complete:disabled,\n",
              "  .colab-df-quickchart-complete:disabled:hover {\n",
              "    background-color: var(--disabled-bg-color);\n",
              "    fill: var(--disabled-fill-color);\n",
              "    box-shadow: none;\n",
              "  }\n",
              "\n",
              "  .colab-df-spinner {\n",
              "    border: 2px solid var(--fill-color);\n",
              "    border-color: transparent;\n",
              "    border-bottom-color: var(--fill-color);\n",
              "    animation:\n",
              "      spin 1s steps(1) infinite;\n",
              "  }\n",
              "\n",
              "  @keyframes spin {\n",
              "    0% {\n",
              "      border-color: transparent;\n",
              "      border-bottom-color: var(--fill-color);\n",
              "      border-left-color: var(--fill-color);\n",
              "    }\n",
              "    20% {\n",
              "      border-color: transparent;\n",
              "      border-left-color: var(--fill-color);\n",
              "      border-top-color: var(--fill-color);\n",
              "    }\n",
              "    30% {\n",
              "      border-color: transparent;\n",
              "      border-left-color: var(--fill-color);\n",
              "      border-top-color: var(--fill-color);\n",
              "      border-right-color: var(--fill-color);\n",
              "    }\n",
              "    40% {\n",
              "      border-color: transparent;\n",
              "      border-right-color: var(--fill-color);\n",
              "      border-top-color: var(--fill-color);\n",
              "    }\n",
              "    60% {\n",
              "      border-color: transparent;\n",
              "      border-right-color: var(--fill-color);\n",
              "    }\n",
              "    80% {\n",
              "      border-color: transparent;\n",
              "      border-right-color: var(--fill-color);\n",
              "      border-bottom-color: var(--fill-color);\n",
              "    }\n",
              "    90% {\n",
              "      border-color: transparent;\n",
              "      border-bottom-color: var(--fill-color);\n",
              "    }\n",
              "  }\n",
              "</style>\n",
              "\n",
              "  <script>\n",
              "    async function quickchart(key) {\n",
              "      const quickchartButtonEl =\n",
              "        document.querySelector('#' + key + ' button');\n",
              "      quickchartButtonEl.disabled = true;  // To prevent multiple clicks.\n",
              "      quickchartButtonEl.classList.add('colab-df-spinner');\n",
              "      try {\n",
              "        const charts = await google.colab.kernel.invokeFunction(\n",
              "            'suggestCharts', [key], {});\n",
              "      } catch (error) {\n",
              "        console.error('Error during call to suggestCharts:', error);\n",
              "      }\n",
              "      quickchartButtonEl.classList.remove('colab-df-spinner');\n",
              "      quickchartButtonEl.classList.add('colab-df-quickchart-complete');\n",
              "    }\n",
              "    (() => {\n",
              "      let quickchartButtonEl =\n",
              "        document.querySelector('#df-0ba939d0-7a08-4bfd-b1eb-242c5dd99525 button');\n",
              "      quickchartButtonEl.style.display =\n",
              "        google.colab.kernel.accessAllowed ? 'block' : 'none';\n",
              "    })();\n",
              "  </script>\n",
              "</div>\n",
              "\n",
              "    </div>\n",
              "  </div>\n"
            ],
            "application/vnd.google.colaboratory.intrinsic+json": {
              "type": "dataframe",
              "variable_name": "tfidf_reduced_df"
            }
          },
          "metadata": {},
          "execution_count": 13
        }
      ],
      "source": [
        "# Get the original feature names from TfidfVectorizer\n",
        "feature_names = vectorizer.get_feature_names_out()\n",
        "\n",
        "# Get the indices of the selected features (Chi2 best features)\n",
        "selected_feature_indices = selector.get_support(indices=True)\n",
        "\n",
        "# Get the names of the selected features using the indices\n",
        "selected_feature_names = [feature_names[i] for i in selected_feature_indices]\n",
        "\n",
        "# Create a DataFrame with the reduced features\n",
        "tfidf_reduced_df = pd.DataFrame(X_reduced.toarray(), columns=selected_feature_names)\n",
        "\n",
        "# Display the DataFrame\n",
        "tfidf_reduced_df.head()\n"
      ]
    },
    {
      "cell_type": "code",
      "source": [
        "tfidf_reduced_df.shape"
      ],
      "metadata": {
        "colab": {
          "base_uri": "https://localhost:8080/"
        },
        "id": "qPL3MB_i-Vy3",
        "outputId": "f4717806-5bae-4ca0-dcf3-963895344f09"
      },
      "execution_count": null,
      "outputs": [
        {
          "output_type": "execute_result",
          "data": {
            "text/plain": [
              "(50000, 10000)"
            ]
          },
          "metadata": {},
          "execution_count": 14
        }
      ]
    },
    {
      "cell_type": "code",
      "source": [
        "# Split the data into training and test sets (70% train, 30% test)\n",
        "X_train, X_test, y_train, y_test = train_test_split(tfidf_reduced_df, emails.label, test_size=0.3, random_state=42)"
      ],
      "metadata": {
        "id": "1hwaLN8H-Wbf"
      },
      "execution_count": null,
      "outputs": []
    },
    {
      "cell_type": "markdown",
      "source": [
        "### **Spam Emails Classification using Logistic Regression**"
      ],
      "metadata": {
        "id": "fGtSZ83BYylO"
      }
    },
    {
      "cell_type": "code",
      "source": [
        "from sklearn.metrics import precision_score, recall_score, f1_score\n",
        "log_reg = LogisticRegression(solver='liblinear')\n",
        "# Measure the time to fit the model\n",
        "start_time = time.time()\n",
        "log_reg.fit(X_train, y_train)\n",
        "# Measure the time after fitting the model\n",
        "end_time = time.time()\n",
        "\n",
        "# Calculate the elapsed time\n",
        "execution_time = end_time - start_time\n",
        "print(f\"Execution time to fit the LogisticRegressio model: {execution_time:.4f} seconds\")\n",
        "\n",
        "# Make predictions on the test set\n",
        "y_pred = log_reg.predict(X_test)\n",
        "\n",
        "# Evaluate model performance\n",
        "accuracy = accuracy_score(y_test, y_pred)\n",
        "precision = precision_score(y_test, y_pred)\n",
        "recall = recall_score(y_test, y_pred)\n",
        "f1 = f1_score(y_test, y_pred)\n",
        "\n",
        "print(f\"Accuracy: {accuracy:.4f}\")\n",
        "print(f\"Precision: {precision:.4f}\")\n",
        "print(f\"Recall: {recall:.4f}\")\n",
        "print(f\"F1 Score: {f1:.4f}\")"
      ],
      "metadata": {
        "colab": {
          "base_uri": "https://localhost:8080/"
        },
        "id": "wnsTb_lG-cxh",
        "outputId": "a3589032-20a7-4ce9-e174-61d805561b1e"
      },
      "execution_count": null,
      "outputs": [
        {
          "output_type": "stream",
          "name": "stdout",
          "text": [
            "Execution time to fit the LogisticRegressio model: 5.2372 seconds\n",
            "Accuracy: 0.9793\n",
            "Precision: 0.9703\n",
            "Recall: 0.9913\n",
            "F1 Score: 0.9807\n"
          ]
        }
      ]
    },
    {
      "cell_type": "code",
      "source": [
        "from matplotlib import pyplot as plt\n",
        "import seaborn as sns\n",
        "# Generate the confusion matrix\n",
        "cm = confusion_matrix(y_test, y_pred)\n",
        "\n",
        "# Plot the confusion matrix\n",
        "plt.figure(figsize=(6,4))\n",
        "sns.heatmap(cm, annot=True, fmt='d', cmap='Blues', xticklabels=['Not Spam', 'Spam'], yticklabels=['Not Spam', 'Spam'])\n",
        "plt.xlabel('Predicted')\n",
        "plt.ylabel('Actual')\n",
        "plt.title('Confusion Matrix (Logistic Regression)')\n",
        "plt.show()"
      ],
      "metadata": {
        "colab": {
          "base_uri": "https://localhost:8080/",
          "height": 430
        },
        "id": "ANjuNU5B_K7v",
        "outputId": "a5bef402-9f42-4872-90e4-3bd3042061d9"
      },
      "execution_count": null,
      "outputs": [
        {
          "output_type": "display_data",
          "data": {
            "text/plain": [
              "<Figure size 600x400 with 2 Axes>"
            ],
            "image/png": "[encoded data removed]"
          },
          "metadata": {}
        }
      ]
    },
    {
      "cell_type": "markdown",
      "source": [
        "### **Spam Emails Classification using Multinomial Naive Bayes**"
      ],
      "metadata": {
        "id": "mgSuioBHZI4f"
      }
    },
    {
      "cell_type": "code",
      "source": [
        "nb_model = MultinomialNB()\n",
        "# Measure the time to fit the model\n",
        "start_time = time.time()\n",
        "nb_model.fit(X_train, y_train)\n",
        "# Measure the time after fitting the model\n",
        "end_time = time.time()\n",
        "\n",
        "# Calculate the elapsed time\n",
        "execution_time = end_time - start_time\n",
        "print(f\"Execution time to fit the MultinomialNB model: {execution_time:.4f} seconds\")\n",
        "\n",
        "# Make predictions on the test set\n",
        "y_pred = nb_model.predict(X_test)\n",
        "# Calculate accuracy, precision, recall, and F1-score\n",
        "accuracy = accuracy_score(y_test, y_pred)\n",
        "precision = precision_score(y_test, y_pred)\n",
        "recall = recall_score(y_test, y_pred)\n",
        "f1 = f1_score(y_test, y_pred)\n",
        "\n",
        "print(f\"Accuracy: {accuracy:.4f}\")\n",
        "print(f\"Precision: {precision:.4f}\")\n",
        "print(f\"Recall: {recall:.4f}\")\n",
        "print(f\"F1 Score: {f1:.4f}\")"
      ],
      "metadata": {
        "colab": {
          "base_uri": "https://localhost:8080/"
        },
        "id": "UyVk9mXn-z9e",
        "outputId": "93c5fad3-1759-4293-adcf-f6942c382777"
      },
      "execution_count": null,
      "outputs": [
        {
          "output_type": "stream",
          "name": "stdout",
          "text": [
            "Execution time to fit the MultinomialNB model: 2.0824 seconds\n",
            "Accuracy: 0.9709\n",
            "Precision: 0.9815\n",
            "Recall: 0.9631\n",
            "F1 Score: 0.9722\n"
          ]
        }
      ]
    },
    {
      "cell_type": "code",
      "source": [
        "# Generate the confusion matrix\n",
        "cm = confusion_matrix(y_test, y_pred)\n",
        "\n",
        "# Plot the confusion matrix\n",
        "plt.figure(figsize=(6,4))\n",
        "sns.heatmap(cm, annot=True, fmt='d', cmap='Blues', xticklabels=['Not Spam', 'Spam'], yticklabels=['Not Spam', 'Spam'])\n",
        "plt.xlabel('Predicted')\n",
        "plt.ylabel('Actual')\n",
        "plt.title('Confusion Matrix (Naive Bayes Multinomial)')\n",
        "plt.show()"
      ],
      "metadata": {
        "colab": {
          "base_uri": "https://localhost:8080/",
          "height": 430
        },
        "id": "1BX9Cg7F_CUg",
        "outputId": "fd4bac8c-2b65-4a64-f394-cfb4953a5180"
      },
      "execution_count": null,
      "outputs": [
        {
          "output_type": "display_data",
          "data": {
            "text/plain": [
              "<Figure size 600x400 with 2 Axes>"
            ],
            "image/png": "[encoded data removed]"
          },
          "metadata": {}
        }
      ]
    },
    {
      "cell_type": "markdown",
      "source": [
        "### **Spam Emails Classification using Decision Tree Classifier**"
      ],
      "metadata": {
        "id": "iUP-Z8lTZW2G"
      }
    },
    {
      "cell_type": "code",
      "source": [
        "dt_model = DecisionTreeClassifier()\n",
        "# Measure the time to fit the model\n",
        "start_time = time.time()\n",
        "dt_model.fit(X_train, y_train)\n",
        "\n",
        "# Measure the time after fitting the model\n",
        "end_time = time.time()\n",
        "\n",
        "# Calculate the elapsed time\n",
        "execution_time = end_time - start_time\n",
        "print(f\"Execution time to fit the model: {execution_time:.4f} seconds\")\n",
        "\n",
        "# Make predictions on the test set\n",
        "y_pred = dt_model.predict(X_test)\n",
        "\n",
        "# Evaluate the model\n",
        "accuracy = accuracy_score(y_test, y_pred)\n",
        "precision = precision_score(y_test, y_pred)\n",
        "recall = recall_score(y_test, y_pred)\n",
        "f1 = f1_score(y_test, y_pred)\n",
        "\n",
        "print(f\"Accuracy: {accuracy:.4f}\")\n",
        "print(f\"Precision: {precision:.4f}\")\n",
        "print(f\"Recall: {recall:.4f}\")\n",
        "print(f\"F1 Score: {f1:.4f}\")"
      ],
      "metadata": {
        "colab": {
          "base_uri": "https://localhost:8080/"
        },
        "id": "IqpClRZY_hAz",
        "outputId": "50419503-67ef-40d4-b477-3d94bdcc6618"
      },
      "execution_count": null,
      "outputs": [
        {
          "output_type": "stream",
          "name": "stdout",
          "text": [
            "Execution time to fit the model: 721.5733 seconds\n",
            "Accuracy: 0.9610\n",
            "Precision: 0.9629\n",
            "Recall: 0.9633\n",
            "F1 Score: 0.9631\n"
          ]
        }
      ]
    },
    {
      "cell_type": "code",
      "source": [
        "# Generate the confusion matrix\n",
        "cm = confusion_matrix(y_test, y_pred)\n",
        "\n",
        "# Plot the confusion matrix\n",
        "plt.figure(figsize=(6,4))\n",
        "sns.heatmap(cm, annot=True, fmt='d', cmap='Blues', xticklabels=['Not Spam', 'Spam'], yticklabels=['Not Spam', 'Spam'])\n",
        "plt.xlabel('Predicted')\n",
        "plt.ylabel('Actual')\n",
        "plt.title('Confusion Matrix (Decision Tree Classifier)')\n",
        "plt.show()"
      ],
      "metadata": {
        "id": "_dxcymBvLMBs",
        "outputId": "d112520e-0687-4e01-cd8d-42ba910518e5",
        "colab": {
          "base_uri": "https://localhost:8080/",
          "height": 430
        }
      },
      "execution_count": null,
      "outputs": [
        {
          "output_type": "display_data",
          "data": {
            "text/plain": [
              "<Figure size 600x400 with 2 Axes>"
            ],
            "image/png": "[encoded data removed]"
          },
          "metadata": {}
        }
      ]
    },
    {
      "cell_type": "markdown",
      "source": [
        "### **Report**"
      ],
      "metadata": {
        "id": "e26sibw-ZrT1"
      }
    },
    {
      "cell_type": "markdown",
      "source": [
        "**Dataset**\n",
        "\n",
        "Emails dataset contains **83448** examples each labelled as **spam** or **ham**, collected from Kaggle. After preprocessing and converting each email to its tfidf values when i tried to split data into training and testing sets, colab enviornment collapsed. I observed similar behaviour when i ran it on local environment using miniconda. To avoid it i had to use a subset of the original dataset (50,000 examples).\n",
        "        \n",
        "        \t       count\n",
        "          label\n",
        "             1 \t26308\n",
        "             0 \t23692\n",
        "\n",
        "             1: Spam, 0: Ham\n",
        "\n",
        "Can you please guide me, how to handle larger dataset?\n",
        "\n"
      ],
      "metadata": {
        "id": "IZb9KAhxqKKP"
      }
    },
    {
      "cell_type": "markdown",
      "source": [
        "**Feature Selection**\n",
        "\n",
        "After preprocessing and coverting words (emails) to their tfidf values, the total number of features were **2,13,302** which were reduced to 10,000 using **chi2**\n",
        "\n",
        "\n",
        "\n"
      ],
      "metadata": {
        "id": "kRKQvGBxufLn"
      }
    },
    {
      "cell_type": "markdown",
      "source": [
        "**Models Evaluation**"
      ],
      "metadata": {
        "id": "vBeLF08M57Dh"
      }
    },
    {
      "cell_type": "markdown",
      "source": [
        "![image.png](data:image/png;base64,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)"
      ],
      "metadata": {
        "id": "iCm1U0WX5z6n"
      }
    },
    {
      "cell_type": "markdown",
      "source": [
        "---\n",
        "**Logistic Regression**\n",
        "\n",
        "1. It has highest precision of 97.93% among all other classifiers.\n",
        "2. Those emails which were classified as spam, 97.03% of them are actually spam.\n",
        "3. Out of all spam emails, model successfully predicts 99.13% of them as spam\n",
        "\n",
        " **Error Rate**\n",
        " 1. False Negatives (69): Only 69 spam emails were misclassified as non-spam.\n",
        " 2. False Positives (241): 241 legitimate emails were incorrectly marked as spam.\n",
        "\n",
        "\n",
        "---\n",
        "\n",
        "\n",
        "\n"
      ],
      "metadata": {
        "id": "k6_jNuhM_uaP"
      }
    },
    {
      "cell_type": "markdown",
      "source": [
        "**Multinomial Naive Bayes**\n",
        "\n",
        "1. Its accuracy (97.09%) is slightly less than Logistic Regression but still higher than Decision Tree\n",
        "2. Its precision (98.15%) is higher than other models. Emails which were classified as spam, 98.15% of them are actually spam.\n",
        "3. The model identifies 96.31% of all spam emails.\n",
        "\n",
        " **Error Rate**\n",
        " 1. False Negatives (293): More spam emails (293) are misclassified as non-spam compared to Logistic Regression.\n",
        " 2. False Positives (144): Fewer legitimate emails are incorrectly marked as spam.\n",
        "\n",
        "\n",
        "---\n",
        "\n"
      ],
      "metadata": {
        "id": "RXHwQfDYBfWH"
      }
    },
    {
      "cell_type": "markdown",
      "source": [
        "**Decision Tree**\n",
        "\n",
        "1. It's accuracy(96.10%) is lowest among other models.\n",
        "2. Those emails which were classified as spam, 96.29% of them are actually spam.\n",
        "2. Out of all spam emails, model successfully predicts 96.33% of them as spam\n",
        "\n",
        " **Error Rate**\n",
        " 1. False Negatives (291): More than Logistic Regression but slightly less than Navie Bayes Multinomial emails misclassified as non-spam\n",
        " 2. False Positives (294): Highest number of legitimate emails misclassified as spam.\n",
        "\n",
        "\n",
        "---\n",
        "\n"
      ],
      "metadata": {
        "id": "OjaSmhPBDwkQ"
      }
    },
    {
      "cell_type": "code",
      "source": [],
      "metadata": {
        "id": "uppkBVYvrqV0"
      },
      "execution_count": null,
      "outputs": []
    }
  ],
  "metadata": {
    "colab": {
      "provenance": []
    },
    "kernelspec": {
      "display_name": "Python 3",
      "name": "python3"
    },
    "language_info": {
      "name": "python"
    }
  },
  "nbformat": 4,
  "nbformat_minor": 0
}